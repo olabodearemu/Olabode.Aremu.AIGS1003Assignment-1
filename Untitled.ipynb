{
 "cells": [
  {
   "cell_type": "code",
   "execution_count": null,
   "id": "8b42719d",
   "metadata": {},
   "outputs": [],
   "source": [
    "# Question 1\n",
    "\n"
   ]
  },
  {
   "cell_type": "code",
   "execution_count": 1,
   "id": "53d8e751",
   "metadata": {},
   "outputs": [
    {
     "name": "stdout",
     "output_type": "stream",
     "text": [
      "Doing classification\n",
      "--------------------\n",
      "data:\t\tdigits\n",
      "classifier:\t\tmostFrequent\n",
      "training set size:\t100\n",
      "Extracting features...\n",
      "Training...\n",
      "Validating...\n",
      "14 correct out of 100 (14.0%).\n",
      "Testing...\n",
      "14 correct out of 100 (14.0%).\n",
      "===================================\n",
      "Mistake on example 0\n",
      "Predicted 1; truth is 9\n",
      "Image: \n",
      "                            \n",
      "                            \n",
      "                            \n",
      "                            \n",
      "                            \n",
      "                            \n",
      "                            \n",
      "             ++###+         \n",
      "             ######+        \n",
      "            +######+        \n",
      "            ##+++##+        \n",
      "           +#+  +##+        \n",
      "           +##++###+        \n",
      "           +#######+        \n",
      "           +#######+        \n",
      "            +##+###         \n",
      "              ++##+         \n",
      "              +##+          \n",
      "              ###+          \n",
      "            +###+           \n",
      "            +##+            \n",
      "           +##+             \n",
      "          +##+              \n",
      "         +##+               \n",
      "         ##+                \n",
      "        +#+                 \n",
      "        +#+                 \n",
      "                            \n"
     ]
    }
   ],
   "source": [
    "!python dataClassifier.py"
   ]
  },
  {
   "cell_type": "code",
   "execution_count": 2,
   "id": "d9514ac6",
   "metadata": {},
   "outputs": [
    {
     "name": "stdout",
     "output_type": "stream",
     "text": [
      "Usage: \n",
      "  USAGE:      python dataClassifier.py <options>\n",
      "  EXAMPLES:   (1) python dataClassifier.py\n",
      "                  - trains the default mostFrequent classifier on the digit dataset\n",
      "                  using the default 100 training examples and\n",
      "                  then test the classifier on test data\n",
      "                 \n",
      "\n",
      "Options:\n",
      "  -h, --help            show this help message and exit\n",
      "  -c CLASSIFIER, --classifier=CLASSIFIER\n",
      "                        The type of classifier [Default: mostFrequent]\n",
      "  -d DATA, --data=DATA  Dataset to use [Default: digits]\n",
      "  -t TRAINING, --training=TRAINING\n",
      "                        The size of the training set [Default: 100]\n",
      "  -a, --autotune        Whether to automatically tune hyperparameters\n",
      "                        [Default: False]\n",
      "  -i ITERATIONS, --iterations=ITERATIONS\n",
      "                        Maximum iterations to run training [Default: 3]\n"
     ]
    }
   ],
   "source": [
    "!python dataClassifier.py -h"
   ]
  },
  {
   "cell_type": "code",
   "execution_count": 15,
   "id": "42d29076",
   "metadata": {},
   "outputs": [
    {
     "name": "stderr",
     "output_type": "stream",
     "text": [
      "Traceback (most recent call last):\n",
      "  File \"C:\\Users\\Hp\\Downloads\\Q2 Python 3\\Q2 Python 3\\dataClassifier.py\", line 5, in <module>\n",
      "    import naiveBayes\n",
      "  File \"C:\\Users\\Hp\\Downloads\\Q2 Python 3\\Q2 Python 3\\naiveBayes.py\", line 95\n",
      "    def classify(self, testData):\n",
      "                                 ^\n",
      "IndentationError: unindent does not match any outer indentation level\n"
     ]
    }
   ],
   "source": [
    "!python dataClassifier.py -c naiveBayes --autotune "
   ]
  },
  {
   "cell_type": "code",
   "execution_count": 14,
   "id": "ac7c99ae",
   "metadata": {},
   "outputs": [
    {
     "name": "stderr",
     "output_type": "stream",
     "text": [
      "Traceback (most recent call last):\n",
      "  File \"C:\\Users\\Hp\\Downloads\\Q2 Python 3\\Q2 Python 3\\dataClassifier.py\", line 5, in <module>\n",
      "    import naiveBayes\n",
      "  File \"C:\\Users\\Hp\\Downloads\\Q2 Python 3\\Q2 Python 3\\naiveBayes.py\", line 95\n",
      "    def classify(self, testData):\n",
      "                                 ^\n",
      "IndentationError: unindent does not match any outer indentation level\n"
     ]
    }
   ],
   "source": [
    "!python dataClassifier.py -a -d digits -c naiveBayes -t 1000"
   ]
  },
  {
   "cell_type": "code",
   "execution_count": null,
   "id": "0ccd847c",
   "metadata": {},
   "outputs": [],
   "source": []
  },
  {
   "cell_type": "code",
   "execution_count": null,
   "id": "6aabcb44",
   "metadata": {},
   "outputs": [],
   "source": []
  }
 ],
 "metadata": {
  "kernelspec": {
   "display_name": "Python 3 (ipykernel)",
   "language": "python",
   "name": "python3"
  },
  "language_info": {
   "codemirror_mode": {
    "name": "ipython",
    "version": 3
   },
   "file_extension": ".py",
   "mimetype": "text/x-python",
   "name": "python",
   "nbconvert_exporter": "python",
   "pygments_lexer": "ipython3",
   "version": "3.11.4"
  }
 },
 "nbformat": 4,
 "nbformat_minor": 5
}
