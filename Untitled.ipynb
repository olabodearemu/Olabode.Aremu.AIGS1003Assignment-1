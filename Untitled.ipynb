{
 "cells": [
  {
   "cell_type": "code",
   "execution_count": 1,
   "id": "be9b428d",
   "metadata": {},
   "outputs": [
    {
     "name": "stdout",
     "output_type": "stream",
     "text": [
      "Doing classification\n",
      "--------------------\n",
      "data:\t\tdigits\n",
      "classifier:\t\tmostFrequent\n",
      "training set size:\t100\n",
      "Extracting features...\n",
      "Training...\n",
      "Validating...\n",
      "14 correct out of 100 (14.0%).\n",
      "Testing...\n",
      "14 correct out of 100 (14.0%).\n",
      "===================================\n",
      "Mistake on example 0\n",
      "Predicted 1; truth is 9\n",
      "Image: \n",
      "                            \n",
      "                            \n",
      "                            \n",
      "                            \n",
      "                            \n",
      "                            \n",
      "                            \n",
      "             ++###+         \n",
      "             ######+        \n",
      "            +######+        \n",
      "            ##+++##+        \n",
      "           +#+  +##+        \n",
      "           +##++###+        \n",
      "           +#######+        \n",
      "           +#######+        \n",
      "            +##+###         \n",
      "              ++##+         \n",
      "              +##+          \n",
      "              ###+          \n",
      "            +###+           \n",
      "            +##+            \n",
      "           +##+             \n",
      "          +##+              \n",
      "         +##+               \n",
      "         ##+                \n",
      "        +#+                 \n",
      "        +#+                 \n",
      "                            \n"
     ]
    }
   ],
   "source": [
    "!python dataClassifier.py"
   ]
  },
  {
   "cell_type": "code",
   "execution_count": 2,
   "id": "550e90d1",
   "metadata": {},
   "outputs": [
    {
     "name": "stdout",
     "output_type": "stream",
     "text": [
      "Usage: \n",
      "  USAGE:      python dataClassifier.py <options>\n",
      "  EXAMPLES:   (1) python dataClassifier.py\n",
      "                  - trains the default mostFrequent classifier on the digit dataset\n",
      "                  using the default 100 training examples and\n",
      "                  then test the classifier on test data\n",
      "                 \n",
      "\n",
      "Options:\n",
      "  -h, --help            show this help message and exit\n",
      "  -c CLASSIFIER, --classifier=CLASSIFIER\n",
      "                        The type of classifier [Default: mostFrequent]\n",
      "  -d DATA, --data=DATA  Dataset to use [Default: digits]\n",
      "  -t TRAINING, --training=TRAINING\n",
      "                        The size of the training set [Default: 100]\n",
      "  -a, --autotune        Whether to automatically tune hyperparameters\n",
      "                        [Default: False]\n",
      "  -i ITERATIONS, --iterations=ITERATIONS\n",
      "                        Maximum iterations to run training [Default: 3]\n"
     ]
    }
   ],
   "source": [
    "!python dataClassifier.py -h"
   ]
  },
  {
   "cell_type": "code",
   "execution_count": 5,
   "id": "b4ad5bc0",
   "metadata": {},
   "outputs": [
    {
     "name": "stdout",
     "output_type": "stream",
     "text": [
      "Doing classification\n",
      "--------------------\n",
      "data:\t\tdigits\n",
      "classifier:\t\tnaiveBayes\n",
      "training set size:\t100\n",
      "using automatic tuning for naivebayes\n",
      "Extracting features...\n",
      "Training...\n",
      "Method not implemented: trainAndTune\n"
     ]
    }
   ],
   "source": [
    "!python dataClassifier.py -c naiveBayes --autotune "
   ]
  },
  {
   "cell_type": "code",
   "execution_count": 7,
   "id": "15938898",
   "metadata": {},
   "outputs": [
    {
     "name": "stdout",
     "output_type": "stream",
     "text": [
      "Doing classification\n",
      "--------------------\n",
      "data:\t\tdigits\n",
      "classifier:\t\tnaiveBayes\n",
      "training set size:\t1000\n",
      "using automatic tuning for naivebayes\n",
      "Extracting features...\n",
      "Training...\n",
      "Method not implemented: trainAndTune\n"
     ]
    }
   ],
   "source": [
    "!python dataClassifier.py -a -d digits -c naiveBayes -t 1000"
   ]
  },
  {
   "cell_type": "code",
   "execution_count": null,
   "id": "e1d2c8fd",
   "metadata": {},
   "outputs": [],
   "source": []
  }
 ],
 "metadata": {
  "kernelspec": {
   "display_name": "Python 3 (ipykernel)",
   "language": "python",
   "name": "python3"
  },
  "language_info": {
   "codemirror_mode": {
    "name": "ipython",
    "version": 3
   },
   "file_extension": ".py",
   "mimetype": "text/x-python",
   "name": "python",
   "nbconvert_exporter": "python",
   "pygments_lexer": "ipython3",
   "version": "3.11.4"
  }
 },
 "nbformat": 4,
 "nbformat_minor": 5
}
